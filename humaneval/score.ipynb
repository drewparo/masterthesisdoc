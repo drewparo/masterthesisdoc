{
 "cells": [
  {
   "cell_type": "code",
   "execution_count": 1,
   "metadata": {
    "collapsed": true,
    "ExecuteTime": {
     "end_time": "2023-08-31T14:28:59.014027Z",
     "start_time": "2023-08-31T14:28:55.730568Z"
    }
   },
   "outputs": [
    {
     "name": "stdout",
     "output_type": "stream",
     "text": [
      "fatal: destination path 'mxeval' already exists and is not an empty directory.\r\n",
      "Obtaining file:///Users/andreaparolin/PycharmProjects/masterthesisdoc/humaneval/mxeval\r\n",
      "  Preparing metadata (setup.py) ... \u001B[?25ldone\r\n",
      "\u001B[?25hRequirement already satisfied: tqdm in /Users/andreaparolin/PycharmProjects/masterthesis/venv/lib/python3.9/site-packages (from mxeval==1.0) (4.65.0)\r\n",
      "Requirement already satisfied: fire in /Users/andreaparolin/PycharmProjects/masterthesis/venv/lib/python3.9/site-packages (from mxeval==1.0) (0.5.0)\r\n",
      "Requirement already satisfied: numpy in /Users/andreaparolin/PycharmProjects/masterthesis/venv/lib/python3.9/site-packages (from mxeval==1.0) (1.24.3)\r\n",
      "Requirement already satisfied: termcolor in /Users/andreaparolin/PycharmProjects/masterthesis/venv/lib/python3.9/site-packages (from fire->mxeval==1.0) (2.3.0)\r\n",
      "Requirement already satisfied: six in /Users/andreaparolin/PycharmProjects/masterthesis/venv/lib/python3.9/site-packages (from fire->mxeval==1.0) (1.16.0)\r\n",
      "Installing collected packages: mxeval\r\n",
      "  Attempting uninstall: mxeval\r\n",
      "    Found existing installation: mxeval 1.0\r\n",
      "    Uninstalling mxeval-1.0:\r\n",
      "      Successfully uninstalled mxeval-1.0\r\n",
      "  Running setup.py develop for mxeval\r\n",
      "Successfully installed mxeval-1.0\r\n",
      "\r\n",
      "\u001B[1m[\u001B[0m\u001B[34;49mnotice\u001B[0m\u001B[1;39;49m]\u001B[0m\u001B[39;49m A new release of pip available: \u001B[0m\u001B[31;49m22.3.1\u001B[0m\u001B[39;49m -> \u001B[0m\u001B[32;49m23.2.1\u001B[0m\r\n",
      "\u001B[1m[\u001B[0m\u001B[34;49mnotice\u001B[0m\u001B[1;39;49m]\u001B[0m\u001B[39;49m To update, run: \u001B[0m\u001B[32;49mpython -m pip install --upgrade pip\u001B[0m\r\n"
     ]
    }
   ],
   "source": [
    "!git clone https://github.com/amazon-science/mxeval.git\n",
    "!pip install -e mxeval"
   ]
  },
  {
   "cell_type": "code",
   "execution_count": 2,
   "outputs": [],
   "source": [
    "def extract_function_by_name(text, function_name):\n",
    "    # Find start of the function\n",
    "    start_index = text.find(\"func \" + function_name)\n",
    "\n",
    "    if start_index == -1:\n",
    "        return None\n",
    "\n",
    "    # Count braces to find the end of the function\n",
    "    brace_count = 0\n",
    "    first_elmt = True\n",
    "    end_index = None\n",
    "    for i in range(start_index, len(text)):\n",
    "        if text[i] == '{':\n",
    "            if first_elmt:\n",
    "                first_elmt = False\n",
    "            brace_count += 1\n",
    "        elif text[i] == '}':\n",
    "            brace_count -= 1\n",
    "        if brace_count == 0 and not first_elmt:\n",
    "            end_index = i\n",
    "            break\n",
    "\n",
    "    # Extract function using start and end indices\n",
    "    if end_index is not None:\n",
    "\n",
    "        return text[start_index:end_index+1]\n",
    "    else:\n",
    "        print(f'Could not find end of function {function_name}')\n",
    "        return text"
   ],
   "metadata": {
    "collapsed": false,
    "ExecuteTime": {
     "end_time": "2023-08-31T14:29:03.967145Z",
     "start_time": "2023-08-31T14:29:03.965052Z"
    }
   }
  },
  {
   "cell_type": "code",
   "execution_count": 94,
   "outputs": [
    {
     "name": "stdout",
     "output_type": "stream",
     "text": [
      "\r\n",
      "\r\n",
      "Evaluating model_output/finetuned_result_codegen_cleaned.jsonl\r\n",
      "$$$$$$$$$$$$$$$$$$$$$$$$$$$$$$$$$$$$$$$$$$$$$$$$$$\r\n",
      "problem_file: mxeval/data/mbxp/mbswp_release_v1.jsonl\r\n",
      "$$$$$$$$$$$$$$$$$$$$$$$$$$$$$$$$$$$$$$$$$$$$$$$$$$\r\n",
      "Reading samples...\r\n",
      "0it [00:00, ?it/s]@@@@@@@@@@@@@@@@@@@@@@@@@@@@@@@@@@@@@@@@@@@@@@@@@@@@@@@@@@@@@@@@@@@@@@@@@@@@@@@@@@@@@@@@@@@@@@@@@@@@\r\n",
      "func isNotPrime(n : Int) -> Bool {\r\n",
      "    for i in 2..<n {\r\n",
      "        if n % i == 0 {\r\n",
      "            return false\r\n",
      "        }\r\n",
      "    }\r\n",
      "    return true\r\n",
      "}\r\n",
      "\r\n",
      "var arg00 : Int = 2\r\n",
      "var x0 : Bool = isNotPrime(n : arg00)\r\n",
      "var v0 : Bool = false\r\n",
      "assert(x0 == v0, \"Exception -- test case 0 did not pass. x0 = \")\r\n",
      "\r\n",
      "var arg10 : Int = 10\r\n",
      "var x1 : Bool = isNotPrime(n : arg10)\r\n",
      "var v1 : Bool = true\r\n",
      "assert(x1 == v1, \"Exception -- test case 1 did not pass. x1 = \")\r\n",
      "\r\n",
      "var arg20 : Int = 35\r\n",
      "var x2 : Bool = isNotPrime(n : arg20)\r\n",
      "var v2 : Bool = true\r\n",
      "assert(x2 == v2, \"Exception -- test case 2 did not pass. x2 = \")\r\n",
      "\r\n",
      "\r\n",
      "@@@@@@@@@@@@@@@@@@@@@@@@@@@@@@@@@@@@@@@@@@@@@@@@@@@@@@@@@@@@@@@@@@@@@@@@@@@@@@@@@@@@@@@@@@@@@@@@@@@@\r\n",
      "966it [00:00, 58333.90it/s]\r\n",
      "Running test suites...\r\n",
      "100%|█████████████████████████████████████████| 966/966 [00:35<00:00, 26.84it/s]\r\n",
      "Writing results to model_output/finetuned_result_codegen_cleaned.jsonl_results.jsonl...\r\n",
      "100%|██████████████████████████████████████| 966/966 [00:00<00:00, 63923.04it/s]\r\n",
      "{'pass@1': 0.2349896480331263}\r\n"
     ]
    }
   ],
   "source": [
    "!evaluate_functional_correctness model_output/finetuned_result_codegen_cleaned.jsonl --problem_file mxeval/data/mbxp/mbswp_release_v1.jsonl"
   ],
   "metadata": {
    "collapsed": false,
    "ExecuteTime": {
     "end_time": "2023-08-30T14:46:28.636839Z",
     "start_time": "2023-08-30T14:45:52.211256Z"
    }
   }
  },
  {
   "cell_type": "code",
   "execution_count": 98,
   "outputs": [
    {
     "name": "stdout",
     "output_type": "stream",
     "text": [
      "\r\n",
      "\r\n",
      "Evaluating model_output/original_result_codegen_cleaned.jsonl\r\n",
      "$$$$$$$$$$$$$$$$$$$$$$$$$$$$$$$$$$$$$$$$$$$$$$$$$$\r\n",
      "problem_file: mxeval/data/mbxp/mbswp_release_v1.jsonl\r\n",
      "$$$$$$$$$$$$$$$$$$$$$$$$$$$$$$$$$$$$$$$$$$$$$$$$$$\r\n",
      "Reading samples...\r\n",
      "0it [00:00, ?it/s]@@@@@@@@@@@@@@@@@@@@@@@@@@@@@@@@@@@@@@@@@@@@@@@@@@@@@@@@@@@@@@@@@@@@@@@@@@@@@@@@@@@@@@@@@@@@@@@@@@@@\r\n",
      "func isNotPrime(n : Int) -> Bool {\r\n",
      "    if n <= 1 {\r\n",
      "        return false\r\n",
      "    }\r\n",
      "    for i in 2..<n {\r\n",
      "        if n % i == 0 {\r\n",
      "            return false\r\n",
      "        }\r\n",
      "    }\r\n",
      "    return true\r\n",
      "}\r\n",
      "\r\n",
      "var arg00 : Int = 2\r\n",
      "var x0 : Bool = isNotPrime(n : arg00)\r\n",
      "var v0 : Bool = false\r\n",
      "assert(x0 == v0, \"Exception -- test case 0 did not pass. x0 = \")\r\n",
      "\r\n",
      "var arg10 : Int = 10\r\n",
      "var x1 : Bool = isNotPrime(n : arg10)\r\n",
      "var v1 : Bool = true\r\n",
      "assert(x1 == v1, \"Exception -- test case 1 did not pass. x1 = \")\r\n",
      "\r\n",
      "var arg20 : Int = 35\r\n",
      "var x2 : Bool = isNotPrime(n : arg20)\r\n",
      "var v2 : Bool = true\r\n",
      "assert(x2 == v2, \"Exception -- test case 2 did not pass. x2 = \")\r\n",
      "\r\n",
      "\r\n",
      "@@@@@@@@@@@@@@@@@@@@@@@@@@@@@@@@@@@@@@@@@@@@@@@@@@@@@@@@@@@@@@@@@@@@@@@@@@@@@@@@@@@@@@@@@@@@@@@@@@@@\r\n",
      "966it [00:00, 38855.89it/s]\r\n",
      "Running test suites...\r\n",
      "100%|█████████████████████████████████████████| 966/966 [00:41<00:00, 23.35it/s]\r\n",
      "Writing results to model_output/original_result_codegen_cleaned.jsonl_results.jsonl...\r\n",
      "100%|██████████████████████████████████████| 966/966 [00:00<00:00, 57517.39it/s]\r\n",
      "{'pass@1': 0.2484472049689441}\r\n"
     ]
    }
   ],
   "source": [
    "!evaluate_functional_correctness model_output/original_result_codegen_cleaned.jsonl --problem_file mxeval/data/mbxp/mbswp_release_v1.jsonl"
   ],
   "metadata": {
    "collapsed": false,
    "ExecuteTime": {
     "end_time": "2023-08-30T14:49:13.942469Z",
     "start_time": "2023-08-30T14:48:32.086573Z"
    }
   }
  },
  {
   "cell_type": "code",
   "execution_count": 20,
   "outputs": [
    {
     "name": "stdout",
     "output_type": "stream",
     "text": [
      "\r\n",
      "\r\n",
      "Evaluating model_output/original_result_swift_llama_cleaned.jsonl\r\n",
      "$$$$$$$$$$$$$$$$$$$$$$$$$$$$$$$$$$$$$$$$$$$$$$$$$$\r\n",
      "problem_file: mxeval/data/mbxp/mbswp_release_v1.jsonl\r\n",
      "$$$$$$$$$$$$$$$$$$$$$$$$$$$$$$$$$$$$$$$$$$$$$$$$$$\r\n",
      "Reading samples...\r\n",
      "0it [00:00, ?it/s]@@@@@@@@@@@@@@@@@@@@@@@@@@@@@@@@@@@@@@@@@@@@@@@@@@@@@@@@@@@@@@@@@@@@@@@@@@@@@@@@@@@@@@@@@@@@@@@@@@@@\r\n",
      "func isNotPrime(n : Int) -> Bool {\r\n",
      "    return n % 2 == 0 || n % 3 == 0\r\n",
      " }\r\n",
      "\r\n",
      "var arg00 : Int = 2\r\n",
      "var x0 : Bool = isNotPrime(n : arg00)\r\n",
      "var v0 : Bool = false\r\n",
      "assert(x0 == v0, \"Exception -- test case 0 did not pass. x0 = \")\r\n",
      "\r\n",
      "var arg10 : Int = 10\r\n",
      "var x1 : Bool = isNotPrime(n : arg10)\r\n",
      "var v1 : Bool = true\r\n",
      "assert(x1 == v1, \"Exception -- test case 1 did not pass. x1 = \")\r\n",
      "\r\n",
      "var arg20 : Int = 35\r\n",
      "var x2 : Bool = isNotPrime(n : arg20)\r\n",
      "var v2 : Bool = true\r\n",
      "assert(x2 == v2, \"Exception -- test case 2 did not pass. x2 = \")\r\n",
      "\r\n",
      "\r\n",
      "@@@@@@@@@@@@@@@@@@@@@@@@@@@@@@@@@@@@@@@@@@@@@@@@@@@@@@@@@@@@@@@@@@@@@@@@@@@@@@@@@@@@@@@@@@@@@@@@@@@@\r\n",
      "966it [00:00, 40895.67it/s]\r\n",
      "Running test suites...\r\n",
      "100%|█████████████████████████████████████████| 966/966 [00:36<00:00, 26.44it/s]\r\n",
      "Writing results to model_output/original_result_swift_llama_cleaned.jsonl_results.jsonl...\r\n",
      "100%|██████████████████████████████████████| 966/966 [00:00<00:00, 56826.85it/s]\r\n",
      "{'pass@1': 0.08178053830227744}\r\n"
     ]
    }
   ],
   "source": [
    "!evaluate_functional_correctness model_output/original_result_swift_llama_cleaned.jsonl --problem_file mxeval/data/mbxp/mbswp_release_v1.jsonl\n"
   ],
   "metadata": {
    "collapsed": false,
    "ExecuteTime": {
     "end_time": "2023-08-31T14:42:42.396251Z",
     "start_time": "2023-08-31T14:42:05.271365Z"
    }
   }
  },
  {
   "cell_type": "code",
   "execution_count": 23,
   "outputs": [
    {
     "name": "stdout",
     "output_type": "stream",
     "text": [
      "\r\n",
      "\r\n",
      "Evaluating model_output/finetuned_result_swift_llama_cleaned.jsonl\r\n",
      "$$$$$$$$$$$$$$$$$$$$$$$$$$$$$$$$$$$$$$$$$$$$$$$$$$\r\n",
      "problem_file: mxeval/data/mbxp/mbswp_release_v1.jsonl\r\n",
      "$$$$$$$$$$$$$$$$$$$$$$$$$$$$$$$$$$$$$$$$$$$$$$$$$$\r\n",
      "Reading samples...\r\n",
      "0it [00:00, ?it/s]@@@@@@@@@@@@@@@@@@@@@@@@@@@@@@@@@@@@@@@@@@@@@@@@@@@@@@@@@@@@@@@@@@@@@@@@@@@@@@@@@@@@@@@@@@@@@@@@@@@@\r\n",
      "func isNotPrime(n : Int) -> Bool {\r\n",
      "    return n % 2 == 0 || n % 3 == 0\r\n",
      "}\r\n",
      "\r\n",
      "var arg00 : Int = 2\r\n",
      "var x0 : Bool = isNotPrime(n : arg00)\r\n",
      "var v0 : Bool = false\r\n",
      "assert(x0 == v0, \"Exception -- test case 0 did not pass. x0 = \")\r\n",
      "\r\n",
      "var arg10 : Int = 10\r\n",
      "var x1 : Bool = isNotPrime(n : arg10)\r\n",
      "var v1 : Bool = true\r\n",
      "assert(x1 == v1, \"Exception -- test case 1 did not pass. x1 = \")\r\n",
      "\r\n",
      "var arg20 : Int = 35\r\n",
      "var x2 : Bool = isNotPrime(n : arg20)\r\n",
      "var v2 : Bool = true\r\n",
      "assert(x2 == v2, \"Exception -- test case 2 did not pass. x2 = \")\r\n",
      "\r\n",
      "\r\n",
      "@@@@@@@@@@@@@@@@@@@@@@@@@@@@@@@@@@@@@@@@@@@@@@@@@@@@@@@@@@@@@@@@@@@@@@@@@@@@@@@@@@@@@@@@@@@@@@@@@@@@\r\n",
      "966it [00:00, 34690.97it/s]\r\n",
      "Running test suites...\r\n",
      "100%|█████████████████████████████████████████| 966/966 [00:49<00:00, 19.70it/s]\r\n",
      "Writing results to model_output/finetuned_result_swift_llama_cleaned.jsonl_results.jsonl...\r\n",
      "100%|██████████████████████████████████████| 966/966 [00:00<00:00, 58705.79it/s]\r\n",
      "{'pass@1': 0.11076604554865424}\r\n"
     ]
    }
   ],
   "source": [
    "!evaluate_functional_correctness model_output/finetuned_result_swift_llama_cleaned.jsonl --problem_file mxeval/data/mbxp/mbswp_release_v1.jsonl\n"
   ],
   "metadata": {
    "collapsed": false,
    "ExecuteTime": {
     "end_time": "2023-08-31T14:45:06.495457Z",
     "start_time": "2023-08-31T14:44:16.859374Z"
    }
   }
  },
  {
   "cell_type": "code",
   "execution_count": 3,
   "outputs": [
    {
     "name": "stdout",
     "output_type": "stream",
     "text": [
      "{'task_id': 'MBSWP/3', 'language': 'swift', 'completion': 'func isNotPrime(n : Int) -> Bool {\\n    return n % 2 == 0 || n % 3 == 0\\n }'}\n",
      "func isNotPrime(n : Int) -> Bool {\n",
      "    return n % 2 == 0 || n % 3 == 0\n",
      " }\n",
      "Could not find end of function heapQueueLargest\n",
      "Could not find end of function countCommon\n",
      "Could not find end of function testDuplicate\n",
      "Could not find end of function maximumSum\n",
      "Could not find end of function getOddOccurrence\n",
      "Could not find end of function funct\n",
      "Could not find end of function countingSort\n",
      "Could not find end of function maxDifference\n",
      "Could not find end of function posCount\n",
      "Could not find end of function combSort\n",
      "Could not find end of function findTuples\n",
      "Could not find end of function freqCount\n",
      "Could not find end of function indexMinimum\n",
      "Could not find end of function frequencyLists\n",
      "Could not find end of function nextSmallestPalindrome\n",
      "Could not find end of function countHexadecimal\n",
      "Could not find end of function mergeSortedList\n",
      "Could not find end of function extractMissing\n",
      "Could not find end of function listToFloat\n",
      "Could not find end of function amicableNumbersSum\n",
      "Could not find end of function findLength\n",
      "Could not find end of function maxOccurrences\n",
      "Could not find end of function pancakeSort\n",
      "Could not find end of function countSamepair\n",
      "Could not find end of function findLists\n",
      "Could not find end of function longestSubseqWithDiffOne\n",
      "Could not find end of function encodeList\n",
      "Could not find end of function solution\n",
      "Could not find end of function groupKeyvalue\n",
      "Could not find end of function answer\n",
      "Could not find end of function commonPrefix\n",
      "Could not find end of function positionMax\n",
      "Could not find end of function inversionElements\n",
      "Could not find end of function concatenateElements\n",
      "Could not find end of function reArrangeArray\n",
      "Could not find end of function checkOccurences\n",
      "Could not find end of function combinationsColors\n",
      "Could not find end of function splitTwoParts\n",
      "Could not find end of function sumEvenAndEvenIndex\n",
      "Could not find end of function dictFilter\n",
      "Could not find end of function sequentialSearch\n",
      "Could not find end of function maxLength\n",
      "Could not find end of function maxVal\n",
      "Could not find end of function getInvCount\n",
      "Could not find end of function flattenList\n",
      "Could not find end of function maxAggregate\n",
      "Could not find end of function dictDepth\n",
      "Could not find end of function largeProduct\n",
      "Could not find end of function positionMin\n",
      "Could not find end of function reArrange\n",
      "Could not find end of function sumOfAlternates\n",
      "Could not find end of function charFrequency\n",
      "Could not find end of function findMinimumRange\n",
      "Could not find end of function diffConsecutivenums\n",
      "Could not find end of function firstElement\n",
      "Could not find end of function maxOccurrences\n",
      "Could not find end of function addKElement\n",
      "Could not find end of function countDigit\n",
      "Could not find end of function adjacentNumProduct\n",
      "Could not find end of function removeReplica\n",
      "Could not find end of function multiList\n",
      "Could not find end of function indexOnInnerList\n",
      "Could not find end of function convertListDictionary\n",
      "Could not find end of function checkDistinct\n",
      "Could not find end of function extractFreq\n",
      "Could not find end of function kSmallestPairs\n",
      "Could not find end of function findMax\n",
      "Could not find end of function shellSort\n",
      "Could not find end of function checkGreater\n",
      "Could not find end of function countBidirectional\n",
      "Could not find end of function findAdverbPosition\n",
      "Could not find end of function trimTuple\n",
      "Could not find end of function countOccurrence\n",
      "Could not find end of function lossAmount\n",
      "Could not find end of function maxProduct\n",
      "Could not find end of function addPairwise\n",
      "Could not find end of function tupleIntersection\n",
      "Could not find end of function removeLowercase\n",
      "Could not find end of function firstFactorialDivisibleNumber\n",
      "Could not find end of function extractSymmetric\n",
      "Could not find end of function calculatePolygons\n",
      "Could not find end of function reOrder\n",
      "Could not find end of function countElementFreq\n",
      "Could not find end of function radixSort\n",
      "Could not find end of function getPairsCount\n",
      "Could not find end of function minLength\n",
      "Could not find end of function jacobsthalLucas\n",
      "Could not find end of function negativeCount\n",
      "Could not find end of function basesnumCoresspondingnum\n",
      "Could not find end of function findOddPair\n",
      "Could not find end of function assignElements\n",
      "Could not find end of function removeWords\n",
      "Could not find end of function twoUniqueNums\n",
      "Could not find end of function extractEven\n",
      "Could not find end of function maximumValue\n",
      "Could not find end of function cummulativeSum\n",
      "Could not find end of function moveNum\n",
      "Could not find end of function incrementNumerics\n",
      "Could not find end of function pairOrSum\n",
      "Could not find end of function exchangeElements\n",
      "Could not find end of function matrixToList\n",
      "Could not find end of function groupingDictionary\n",
      "Could not find end of function checkIp\n",
      "Could not find end of function sumNums\n",
      "Could not find end of function sumOfPrimes\n",
      "Could not find end of function freqElement\n",
      "Could not find end of function groupElement\n",
      "Could not find end of function extractUnique\n",
      "Could not find end of function checkGreater\n",
      "Could not find end of function removeDuplicate\n",
      "Could not find end of function strToTuple\n",
      "Could not find end of function alternateElements\n",
      "Could not find end of function filterData\n",
      "Could not find end of function consecutiveDuplicates\n",
      "Could not find end of function findIndex\n",
      "Could not find end of function checkNone\n",
      "Could not find end of function divisibleByDigits\n",
      "Could not find end of function countReversePairs\n",
      "Could not find end of function uniqueSublists\n",
      "Could not find end of function pairWise\n",
      "Could not find end of function packConsecutiveDuplicates\n",
      "Could not find end of function uniqueSublists\n",
      "Could not find end of function countDivisors\n",
      "Could not find end of function tupleStrInt\n",
      "Could not find end of function removeNested\n",
      "Could not find end of function cheapItems\n",
      "Could not find end of function removeAllSpaces\n",
      "Could not find end of function checkSmaller\n",
      "Could not find end of function countPairs\n",
      "Could not find end of function generateMatrix\n",
      "Could not find end of function checkSolution\n",
      "Could not find end of function getOddOccurence\n",
      "Could not find end of function nthSuperUglyNumber\n",
      "Could not find end of function sumOfInverseDivisors\n",
      "Could not find end of function countList\n",
      "Could not find end of function removeListRange\n",
      "Could not find end of function allBitsSetInTheGivenRange\n",
      "Could not find end of function floatToTuple\n",
      "Could not find end of function addDict\n",
      "Could not find end of function extractDate\n",
      "Could not find end of function luckyNum\n",
      "Could not find end of function maximumProduct\n",
      "Could not find end of function findTripletArray\n",
      "Could not find end of function removeTuple\n",
      "Could not find end of function superSeq\n",
      "Could not find end of function countTuplex\n",
      "Could not find end of function sortedModels\n",
      "Could not find end of function countElim\n",
      "Could not find end of function profitAmount\n"
     ]
    }
   ],
   "source": [
    "import jsonlines\n",
    "\n",
    "def remove_star_comments(text):\n",
    "    # Split the string into lines\n",
    "    lines = text.split('\\n')\n",
    "    # Keep only lines that don't start with a single * or /**\n",
    "    cleaned_lines = [line for line in lines if not (line.strip().startswith('*') or line.strip().startswith('/*'))]\n",
    "    # Join the lines back together and return\n",
    "    return '\\n'.join(cleaned_lines)\n",
    "# Open file and edit them line by line then save to a new file\n",
    "new_file_list = []\n",
    "with jsonlines.open('model_output/original_result_swift_llama.jsonl') as reader:\n",
    "    for obj in reader:\n",
    "        completation = obj['completion']\n",
    "        # Remove lines that start with a star or /* from completation\n",
    "        cleaned_completation = remove_star_comments(completation)\n",
    "        function_name = completation.split(\">>>\")[1].split(\"(\")[0].lstrip().rstrip()\n",
    "\n",
    "        desired_function = extract_function_by_name(cleaned_completation, function_name)\n",
    "\n",
    "        # Replace the completation with the cleaned one\n",
    "        obj['completion'] = desired_function\n",
    "        if 'isNotPrime' in function_name:\n",
    "            print(obj)\n",
    "            print(desired_function)\n",
    "        new_file_list.append(obj)\n"
   ],
   "metadata": {
    "collapsed": false,
    "ExecuteTime": {
     "end_time": "2023-08-31T14:29:32.926957Z",
     "start_time": "2023-08-31T14:29:32.851256Z"
    }
   }
  },
  {
   "cell_type": "code",
   "execution_count": 6,
   "outputs": [],
   "source": [
    "# Swift Cleaning"
   ],
   "metadata": {
    "collapsed": false,
    "ExecuteTime": {
     "end_time": "2023-08-31T14:32:47.905882Z",
     "start_time": "2023-08-31T14:32:47.903421Z"
    }
   }
  },
  {
   "cell_type": "code",
   "execution_count": 13,
   "outputs": [],
   "source": [
    "\n",
    "from mxeval.data import write_jsonl, read_problems\n",
    "problems = read_problems('mxeval/data/mbxp/mbswp_release_v1.jsonl')\n"
   ],
   "metadata": {
    "collapsed": false,
    "ExecuteTime": {
     "end_time": "2023-08-31T14:37:40.297193Z",
     "start_time": "2023-08-31T14:37:40.287124Z"
    }
   }
  },
  {
   "cell_type": "code",
   "execution_count": 21,
   "outputs": [
    {
     "name": "stdout",
     "output_type": "stream",
     "text": [
      "Could not find end of function mergeSortedList\n",
      "Could not find end of function isNumKeith\n",
      "Could not find end of function largestTriangle\n",
      "Could not find end of function listSplit\n",
      "Could not find end of function multiList\n",
      "Could not find end of function indexOnInnerList\n",
      "Could not find end of function combinationsList\n",
      "Could not find end of function calculatePolygons\n",
      "Could not find end of function basesnumCoresspondingnum\n",
      "Could not find end of function extractUnique\n",
      "Could not find end of function filterData\n",
      "Could not find end of function countAlphaDigSpl\n",
      "Could not find end of function generateMatrix\n",
      "Could not find end of function extractDate\n",
      "Could not find end of function findCloset\n"
     ]
    }
   ],
   "source": [
    "new_file_list = []\n",
    "with jsonlines.open('model_output/finetuned_result_swift_llama.jsonl') as reader:\n",
    "    for obj in reader:\n",
    "        function_name = problems[obj['task_id']]['prompt'].split(\">>>\")[1].split(\"(\")[0].lstrip().rstrip()\n",
    "\n",
    "        desired_function = extract_function_by_name(obj['completion'], function_name)\n",
    "        obj['completion'] = desired_function\n",
    "        new_file_list.append(obj)\n"
   ],
   "metadata": {
    "collapsed": false,
    "ExecuteTime": {
     "end_time": "2023-08-31T14:43:26.253314Z",
     "start_time": "2023-08-31T14:43:26.241489Z"
    }
   }
  },
  {
   "cell_type": "code",
   "execution_count": 22,
   "outputs": [],
   "source": [
    "# Write the new file to disk jsonlines\n",
    "with jsonlines.open('model_output/finetuned_result_swift_llama_cleaned.jsonl', mode='w') as writer:\n",
    "    writer.write_all(new_file_list)"
   ],
   "metadata": {
    "collapsed": false,
    "ExecuteTime": {
     "end_time": "2023-08-31T14:43:45.256842Z",
     "start_time": "2023-08-31T14:43:45.247361Z"
    }
   }
  },
  {
   "cell_type": "code",
   "execution_count": 92,
   "outputs": [
    {
     "name": "stdout",
     "output_type": "stream",
     "text": [
      "func isNotPrime(n : Int) -> Bool {\n",
      "    for i in 2..<n {\n",
      "        if n % i == 0 {\n",
      "            return false\n",
      "        }\n",
      "    }\n",
      "    return true\n",
      "}\n"
     ]
    }
   ],
   "source": [
    "print({\"task_id\": \"MBSWP/3\", \"language\": \"swift\", \"completion\": \"func isNotPrime(n : Int) -> Bool {\\n    for i in 2..<n {\\n        if n % i == 0 {\\n            return false\\n        }\\n    }\\n    return true\\n}\"}[\"completion\"])\n"
   ],
   "metadata": {
    "collapsed": false,
    "ExecuteTime": {
     "end_time": "2023-08-30T14:42:45.500668Z",
     "start_time": "2023-08-30T14:42:45.497460Z"
    }
   }
  }
 ],
 "metadata": {
  "kernelspec": {
   "display_name": "Python 3",
   "language": "python",
   "name": "python3"
  },
  "language_info": {
   "codemirror_mode": {
    "name": "ipython",
    "version": 2
   },
   "file_extension": ".py",
   "mimetype": "text/x-python",
   "name": "python",
   "nbconvert_exporter": "python",
   "pygments_lexer": "ipython2",
   "version": "2.7.6"
  }
 },
 "nbformat": 4,
 "nbformat_minor": 0
}
